{
  "nbformat": 4,
  "nbformat_minor": 0,
  "metadata": {
    "colab": {
      "provenance": [],
      "authorship_tag": "ABX9TyPb4dmApJaSjYiWVgzR2hQc",
      "include_colab_link": true
    },
    "kernelspec": {
      "name": "python3",
      "display_name": "Python 3"
    },
    "language_info": {
      "name": "python"
    }
  },
  "cells": [
    {
      "cell_type": "markdown",
      "metadata": {
        "id": "view-in-github",
        "colab_type": "text"
      },
      "source": [
        "<a href=\"https://colab.research.google.com/github/tinumide/ml-scratch/blob/ann/ANN.ipynb\" target=\"_parent\"><img src=\"https://colab.research.google.com/assets/colab-badge.svg\" alt=\"Open In Colab\"/></a>"
      ]
    },
    {
      "cell_type": "markdown",
      "source": [
        "# Building an Artificial Neural Network from Scratch\n"
      ],
      "metadata": {
        "id": "QK1CiwtDFxuW"
      }
    },
    {
      "cell_type": "markdown",
      "source": [
        "## Import Libraries"
      ],
      "metadata": {
        "id": "c5RbxozIKmTA"
      }
    },
    {
      "cell_type": "code",
      "source": [
        "import os\n",
        "import io\n",
        "import sys\n",
        "import random\n",
        "import numpy as np \n",
        "import pandas as pd\n",
        "import matplotlib.pyplot as plt\n",
        "from sklearn.model_selection import train_test_split\n",
        "from sklearn.preprocessing import LabelEncoder\n",
        "from sklearn.metrics import accuracy_score"
      ],
      "metadata": {
        "id": "UiwlbH27KrL_"
      },
      "execution_count": 164,
      "outputs": []
    },
    {
      "cell_type": "markdown",
      "source": [
        "## Load dataset"
      ],
      "metadata": {
        "id": "MRCUbqWyB3WZ"
      }
    },
    {
      "cell_type": "code",
      "source": [
        "df = pd.read_csv('/content/sample_data/data.csv')\n"
      ],
      "metadata": {
        "id": "hnjnh4-kB2Y7"
      },
      "execution_count": 95,
      "outputs": []
    },
    {
      "cell_type": "code",
      "source": [
        "df.info()"
      ],
      "metadata": {
        "colab": {
          "base_uri": "https://localhost:8080/"
        },
        "id": "PLGveJHUGahL",
        "outputId": "e1756048-4f5d-407d-882d-4b2f8e2e3a1b"
      },
      "execution_count": 96,
      "outputs": [
        {
          "output_type": "stream",
          "name": "stdout",
          "text": [
            "<class 'pandas.core.frame.DataFrame'>\n",
            "RangeIndex: 569 entries, 0 to 568\n",
            "Data columns (total 33 columns):\n",
            " #   Column                   Non-Null Count  Dtype  \n",
            "---  ------                   --------------  -----  \n",
            " 0   id                       569 non-null    int64  \n",
            " 1   diagnosis                569 non-null    object \n",
            " 2   radius_mean              569 non-null    float64\n",
            " 3   texture_mean             569 non-null    float64\n",
            " 4   perimeter_mean           569 non-null    float64\n",
            " 5   area_mean                569 non-null    float64\n",
            " 6   smoothness_mean          569 non-null    float64\n",
            " 7   compactness_mean         569 non-null    float64\n",
            " 8   concavity_mean           569 non-null    float64\n",
            " 9   concave points_mean      569 non-null    float64\n",
            " 10  symmetry_mean            569 non-null    float64\n",
            " 11  fractal_dimension_mean   569 non-null    float64\n",
            " 12  radius_se                569 non-null    float64\n",
            " 13  texture_se               569 non-null    float64\n",
            " 14  perimeter_se             569 non-null    float64\n",
            " 15  area_se                  569 non-null    float64\n",
            " 16  smoothness_se            569 non-null    float64\n",
            " 17  compactness_se           569 non-null    float64\n",
            " 18  concavity_se             569 non-null    float64\n",
            " 19  concave points_se        569 non-null    float64\n",
            " 20  symmetry_se              569 non-null    float64\n",
            " 21  fractal_dimension_se     569 non-null    float64\n",
            " 22  radius_worst             569 non-null    float64\n",
            " 23  texture_worst            569 non-null    float64\n",
            " 24  perimeter_worst          569 non-null    float64\n",
            " 25  area_worst               569 non-null    float64\n",
            " 26  smoothness_worst         569 non-null    float64\n",
            " 27  compactness_worst        569 non-null    float64\n",
            " 28  concavity_worst          569 non-null    float64\n",
            " 29  concave points_worst     569 non-null    float64\n",
            " 30  symmetry_worst           569 non-null    float64\n",
            " 31  fractal_dimension_worst  569 non-null    float64\n",
            " 32  Unnamed: 32              0 non-null      float64\n",
            "dtypes: float64(31), int64(1), object(1)\n",
            "memory usage: 146.8+ KB\n"
          ]
        }
      ]
    },
    {
      "cell_type": "code",
      "source": [
        "df.describe()"
      ],
      "metadata": {
        "colab": {
          "base_uri": "https://localhost:8080/",
          "height": 411
        },
        "id": "SrZMvvCA8Efa",
        "outputId": "1179d2d6-fe39-4e95-b82a-f121a5430e94"
      },
      "execution_count": 97,
      "outputs": [
        {
          "output_type": "execute_result",
          "data": {
            "text/plain": [
              "                 id  radius_mean  texture_mean  perimeter_mean    area_mean  \\\n",
              "count  5.690000e+02   569.000000    569.000000      569.000000   569.000000   \n",
              "mean   3.037183e+07    14.127292     19.289649       91.969033   654.889104   \n",
              "std    1.250206e+08     3.524049      4.301036       24.298981   351.914129   \n",
              "min    8.670000e+03     6.981000      9.710000       43.790000   143.500000   \n",
              "25%    8.692180e+05    11.700000     16.170000       75.170000   420.300000   \n",
              "50%    9.060240e+05    13.370000     18.840000       86.240000   551.100000   \n",
              "75%    8.813129e+06    15.780000     21.800000      104.100000   782.700000   \n",
              "max    9.113205e+08    28.110000     39.280000      188.500000  2501.000000   \n",
              "\n",
              "       smoothness_mean  compactness_mean  concavity_mean  concave points_mean  \\\n",
              "count       569.000000        569.000000      569.000000           569.000000   \n",
              "mean          0.096360          0.104341        0.088799             0.048919   \n",
              "std           0.014064          0.052813        0.079720             0.038803   \n",
              "min           0.052630          0.019380        0.000000             0.000000   \n",
              "25%           0.086370          0.064920        0.029560             0.020310   \n",
              "50%           0.095870          0.092630        0.061540             0.033500   \n",
              "75%           0.105300          0.130400        0.130700             0.074000   \n",
              "max           0.163400          0.345400        0.426800             0.201200   \n",
              "\n",
              "       symmetry_mean  ...  texture_worst  perimeter_worst   area_worst  \\\n",
              "count     569.000000  ...     569.000000       569.000000   569.000000   \n",
              "mean        0.181162  ...      25.677223       107.261213   880.583128   \n",
              "std         0.027414  ...       6.146258        33.602542   569.356993   \n",
              "min         0.106000  ...      12.020000        50.410000   185.200000   \n",
              "25%         0.161900  ...      21.080000        84.110000   515.300000   \n",
              "50%         0.179200  ...      25.410000        97.660000   686.500000   \n",
              "75%         0.195700  ...      29.720000       125.400000  1084.000000   \n",
              "max         0.304000  ...      49.540000       251.200000  4254.000000   \n",
              "\n",
              "       smoothness_worst  compactness_worst  concavity_worst  \\\n",
              "count        569.000000         569.000000       569.000000   \n",
              "mean           0.132369           0.254265         0.272188   \n",
              "std            0.022832           0.157336         0.208624   \n",
              "min            0.071170           0.027290         0.000000   \n",
              "25%            0.116600           0.147200         0.114500   \n",
              "50%            0.131300           0.211900         0.226700   \n",
              "75%            0.146000           0.339100         0.382900   \n",
              "max            0.222600           1.058000         1.252000   \n",
              "\n",
              "       concave points_worst  symmetry_worst  fractal_dimension_worst  \\\n",
              "count            569.000000      569.000000               569.000000   \n",
              "mean               0.114606        0.290076                 0.083946   \n",
              "std                0.065732        0.061867                 0.018061   \n",
              "min                0.000000        0.156500                 0.055040   \n",
              "25%                0.064930        0.250400                 0.071460   \n",
              "50%                0.099930        0.282200                 0.080040   \n",
              "75%                0.161400        0.317900                 0.092080   \n",
              "max                0.291000        0.663800                 0.207500   \n",
              "\n",
              "       Unnamed: 32  \n",
              "count          0.0  \n",
              "mean           NaN  \n",
              "std            NaN  \n",
              "min            NaN  \n",
              "25%            NaN  \n",
              "50%            NaN  \n",
              "75%            NaN  \n",
              "max            NaN  \n",
              "\n",
              "[8 rows x 32 columns]"
            ],
            "text/html": [
              "\n",
              "  <div id=\"df-c17d9f32-6c4f-4d7c-81e5-866ae0df0426\">\n",
              "    <div class=\"colab-df-container\">\n",
              "      <div>\n",
              "<style scoped>\n",
              "    .dataframe tbody tr th:only-of-type {\n",
              "        vertical-align: middle;\n",
              "    }\n",
              "\n",
              "    .dataframe tbody tr th {\n",
              "        vertical-align: top;\n",
              "    }\n",
              "\n",
              "    .dataframe thead th {\n",
              "        text-align: right;\n",
              "    }\n",
              "</style>\n",
              "<table border=\"1\" class=\"dataframe\">\n",
              "  <thead>\n",
              "    <tr style=\"text-align: right;\">\n",
              "      <th></th>\n",
              "      <th>id</th>\n",
              "      <th>radius_mean</th>\n",
              "      <th>texture_mean</th>\n",
              "      <th>perimeter_mean</th>\n",
              "      <th>area_mean</th>\n",
              "      <th>smoothness_mean</th>\n",
              "      <th>compactness_mean</th>\n",
              "      <th>concavity_mean</th>\n",
              "      <th>concave points_mean</th>\n",
              "      <th>symmetry_mean</th>\n",
              "      <th>...</th>\n",
              "      <th>texture_worst</th>\n",
              "      <th>perimeter_worst</th>\n",
              "      <th>area_worst</th>\n",
              "      <th>smoothness_worst</th>\n",
              "      <th>compactness_worst</th>\n",
              "      <th>concavity_worst</th>\n",
              "      <th>concave points_worst</th>\n",
              "      <th>symmetry_worst</th>\n",
              "      <th>fractal_dimension_worst</th>\n",
              "      <th>Unnamed: 32</th>\n",
              "    </tr>\n",
              "  </thead>\n",
              "  <tbody>\n",
              "    <tr>\n",
              "      <th>count</th>\n",
              "      <td>5.690000e+02</td>\n",
              "      <td>569.000000</td>\n",
              "      <td>569.000000</td>\n",
              "      <td>569.000000</td>\n",
              "      <td>569.000000</td>\n",
              "      <td>569.000000</td>\n",
              "      <td>569.000000</td>\n",
              "      <td>569.000000</td>\n",
              "      <td>569.000000</td>\n",
              "      <td>569.000000</td>\n",
              "      <td>...</td>\n",
              "      <td>569.000000</td>\n",
              "      <td>569.000000</td>\n",
              "      <td>569.000000</td>\n",
              "      <td>569.000000</td>\n",
              "      <td>569.000000</td>\n",
              "      <td>569.000000</td>\n",
              "      <td>569.000000</td>\n",
              "      <td>569.000000</td>\n",
              "      <td>569.000000</td>\n",
              "      <td>0.0</td>\n",
              "    </tr>\n",
              "    <tr>\n",
              "      <th>mean</th>\n",
              "      <td>3.037183e+07</td>\n",
              "      <td>14.127292</td>\n",
              "      <td>19.289649</td>\n",
              "      <td>91.969033</td>\n",
              "      <td>654.889104</td>\n",
              "      <td>0.096360</td>\n",
              "      <td>0.104341</td>\n",
              "      <td>0.088799</td>\n",
              "      <td>0.048919</td>\n",
              "      <td>0.181162</td>\n",
              "      <td>...</td>\n",
              "      <td>25.677223</td>\n",
              "      <td>107.261213</td>\n",
              "      <td>880.583128</td>\n",
              "      <td>0.132369</td>\n",
              "      <td>0.254265</td>\n",
              "      <td>0.272188</td>\n",
              "      <td>0.114606</td>\n",
              "      <td>0.290076</td>\n",
              "      <td>0.083946</td>\n",
              "      <td>NaN</td>\n",
              "    </tr>\n",
              "    <tr>\n",
              "      <th>std</th>\n",
              "      <td>1.250206e+08</td>\n",
              "      <td>3.524049</td>\n",
              "      <td>4.301036</td>\n",
              "      <td>24.298981</td>\n",
              "      <td>351.914129</td>\n",
              "      <td>0.014064</td>\n",
              "      <td>0.052813</td>\n",
              "      <td>0.079720</td>\n",
              "      <td>0.038803</td>\n",
              "      <td>0.027414</td>\n",
              "      <td>...</td>\n",
              "      <td>6.146258</td>\n",
              "      <td>33.602542</td>\n",
              "      <td>569.356993</td>\n",
              "      <td>0.022832</td>\n",
              "      <td>0.157336</td>\n",
              "      <td>0.208624</td>\n",
              "      <td>0.065732</td>\n",
              "      <td>0.061867</td>\n",
              "      <td>0.018061</td>\n",
              "      <td>NaN</td>\n",
              "    </tr>\n",
              "    <tr>\n",
              "      <th>min</th>\n",
              "      <td>8.670000e+03</td>\n",
              "      <td>6.981000</td>\n",
              "      <td>9.710000</td>\n",
              "      <td>43.790000</td>\n",
              "      <td>143.500000</td>\n",
              "      <td>0.052630</td>\n",
              "      <td>0.019380</td>\n",
              "      <td>0.000000</td>\n",
              "      <td>0.000000</td>\n",
              "      <td>0.106000</td>\n",
              "      <td>...</td>\n",
              "      <td>12.020000</td>\n",
              "      <td>50.410000</td>\n",
              "      <td>185.200000</td>\n",
              "      <td>0.071170</td>\n",
              "      <td>0.027290</td>\n",
              "      <td>0.000000</td>\n",
              "      <td>0.000000</td>\n",
              "      <td>0.156500</td>\n",
              "      <td>0.055040</td>\n",
              "      <td>NaN</td>\n",
              "    </tr>\n",
              "    <tr>\n",
              "      <th>25%</th>\n",
              "      <td>8.692180e+05</td>\n",
              "      <td>11.700000</td>\n",
              "      <td>16.170000</td>\n",
              "      <td>75.170000</td>\n",
              "      <td>420.300000</td>\n",
              "      <td>0.086370</td>\n",
              "      <td>0.064920</td>\n",
              "      <td>0.029560</td>\n",
              "      <td>0.020310</td>\n",
              "      <td>0.161900</td>\n",
              "      <td>...</td>\n",
              "      <td>21.080000</td>\n",
              "      <td>84.110000</td>\n",
              "      <td>515.300000</td>\n",
              "      <td>0.116600</td>\n",
              "      <td>0.147200</td>\n",
              "      <td>0.114500</td>\n",
              "      <td>0.064930</td>\n",
              "      <td>0.250400</td>\n",
              "      <td>0.071460</td>\n",
              "      <td>NaN</td>\n",
              "    </tr>\n",
              "    <tr>\n",
              "      <th>50%</th>\n",
              "      <td>9.060240e+05</td>\n",
              "      <td>13.370000</td>\n",
              "      <td>18.840000</td>\n",
              "      <td>86.240000</td>\n",
              "      <td>551.100000</td>\n",
              "      <td>0.095870</td>\n",
              "      <td>0.092630</td>\n",
              "      <td>0.061540</td>\n",
              "      <td>0.033500</td>\n",
              "      <td>0.179200</td>\n",
              "      <td>...</td>\n",
              "      <td>25.410000</td>\n",
              "      <td>97.660000</td>\n",
              "      <td>686.500000</td>\n",
              "      <td>0.131300</td>\n",
              "      <td>0.211900</td>\n",
              "      <td>0.226700</td>\n",
              "      <td>0.099930</td>\n",
              "      <td>0.282200</td>\n",
              "      <td>0.080040</td>\n",
              "      <td>NaN</td>\n",
              "    </tr>\n",
              "    <tr>\n",
              "      <th>75%</th>\n",
              "      <td>8.813129e+06</td>\n",
              "      <td>15.780000</td>\n",
              "      <td>21.800000</td>\n",
              "      <td>104.100000</td>\n",
              "      <td>782.700000</td>\n",
              "      <td>0.105300</td>\n",
              "      <td>0.130400</td>\n",
              "      <td>0.130700</td>\n",
              "      <td>0.074000</td>\n",
              "      <td>0.195700</td>\n",
              "      <td>...</td>\n",
              "      <td>29.720000</td>\n",
              "      <td>125.400000</td>\n",
              "      <td>1084.000000</td>\n",
              "      <td>0.146000</td>\n",
              "      <td>0.339100</td>\n",
              "      <td>0.382900</td>\n",
              "      <td>0.161400</td>\n",
              "      <td>0.317900</td>\n",
              "      <td>0.092080</td>\n",
              "      <td>NaN</td>\n",
              "    </tr>\n",
              "    <tr>\n",
              "      <th>max</th>\n",
              "      <td>9.113205e+08</td>\n",
              "      <td>28.110000</td>\n",
              "      <td>39.280000</td>\n",
              "      <td>188.500000</td>\n",
              "      <td>2501.000000</td>\n",
              "      <td>0.163400</td>\n",
              "      <td>0.345400</td>\n",
              "      <td>0.426800</td>\n",
              "      <td>0.201200</td>\n",
              "      <td>0.304000</td>\n",
              "      <td>...</td>\n",
              "      <td>49.540000</td>\n",
              "      <td>251.200000</td>\n",
              "      <td>4254.000000</td>\n",
              "      <td>0.222600</td>\n",
              "      <td>1.058000</td>\n",
              "      <td>1.252000</td>\n",
              "      <td>0.291000</td>\n",
              "      <td>0.663800</td>\n",
              "      <td>0.207500</td>\n",
              "      <td>NaN</td>\n",
              "    </tr>\n",
              "  </tbody>\n",
              "</table>\n",
              "<p>8 rows × 32 columns</p>\n",
              "</div>\n",
              "      <button class=\"colab-df-convert\" onclick=\"convertToInteractive('df-c17d9f32-6c4f-4d7c-81e5-866ae0df0426')\"\n",
              "              title=\"Convert this dataframe to an interactive table.\"\n",
              "              style=\"display:none;\">\n",
              "        \n",
              "  <svg xmlns=\"http://www.w3.org/2000/svg\" height=\"24px\"viewBox=\"0 0 24 24\"\n",
              "       width=\"24px\">\n",
              "    <path d=\"M0 0h24v24H0V0z\" fill=\"none\"/>\n",
              "    <path d=\"M18.56 5.44l.94 2.06.94-2.06 2.06-.94-2.06-.94-.94-2.06-.94 2.06-2.06.94zm-11 1L8.5 8.5l.94-2.06 2.06-.94-2.06-.94L8.5 2.5l-.94 2.06-2.06.94zm10 10l.94 2.06.94-2.06 2.06-.94-2.06-.94-.94-2.06-.94 2.06-2.06.94z\"/><path d=\"M17.41 7.96l-1.37-1.37c-.4-.4-.92-.59-1.43-.59-.52 0-1.04.2-1.43.59L10.3 9.45l-7.72 7.72c-.78.78-.78 2.05 0 2.83L4 21.41c.39.39.9.59 1.41.59.51 0 1.02-.2 1.41-.59l7.78-7.78 2.81-2.81c.8-.78.8-2.07 0-2.86zM5.41 20L4 18.59l7.72-7.72 1.47 1.35L5.41 20z\"/>\n",
              "  </svg>\n",
              "      </button>\n",
              "      \n",
              "  <style>\n",
              "    .colab-df-container {\n",
              "      display:flex;\n",
              "      flex-wrap:wrap;\n",
              "      gap: 12px;\n",
              "    }\n",
              "\n",
              "    .colab-df-convert {\n",
              "      background-color: #E8F0FE;\n",
              "      border: none;\n",
              "      border-radius: 50%;\n",
              "      cursor: pointer;\n",
              "      display: none;\n",
              "      fill: #1967D2;\n",
              "      height: 32px;\n",
              "      padding: 0 0 0 0;\n",
              "      width: 32px;\n",
              "    }\n",
              "\n",
              "    .colab-df-convert:hover {\n",
              "      background-color: #E2EBFA;\n",
              "      box-shadow: 0px 1px 2px rgba(60, 64, 67, 0.3), 0px 1px 3px 1px rgba(60, 64, 67, 0.15);\n",
              "      fill: #174EA6;\n",
              "    }\n",
              "\n",
              "    [theme=dark] .colab-df-convert {\n",
              "      background-color: #3B4455;\n",
              "      fill: #D2E3FC;\n",
              "    }\n",
              "\n",
              "    [theme=dark] .colab-df-convert:hover {\n",
              "      background-color: #434B5C;\n",
              "      box-shadow: 0px 1px 3px 1px rgba(0, 0, 0, 0.15);\n",
              "      filter: drop-shadow(0px 1px 2px rgba(0, 0, 0, 0.3));\n",
              "      fill: #FFFFFF;\n",
              "    }\n",
              "  </style>\n",
              "\n",
              "      <script>\n",
              "        const buttonEl =\n",
              "          document.querySelector('#df-c17d9f32-6c4f-4d7c-81e5-866ae0df0426 button.colab-df-convert');\n",
              "        buttonEl.style.display =\n",
              "          google.colab.kernel.accessAllowed ? 'block' : 'none';\n",
              "\n",
              "        async function convertToInteractive(key) {\n",
              "          const element = document.querySelector('#df-c17d9f32-6c4f-4d7c-81e5-866ae0df0426');\n",
              "          const dataTable =\n",
              "            await google.colab.kernel.invokeFunction('convertToInteractive',\n",
              "                                                     [key], {});\n",
              "          if (!dataTable) return;\n",
              "\n",
              "          const docLinkHtml = 'Like what you see? Visit the ' +\n",
              "            '<a target=\"_blank\" href=https://colab.research.google.com/notebooks/data_table.ipynb>data table notebook</a>'\n",
              "            + ' to learn more about interactive tables.';\n",
              "          element.innerHTML = '';\n",
              "          dataTable['output_type'] = 'display_data';\n",
              "          await google.colab.output.renderOutput(dataTable, element);\n",
              "          const docLink = document.createElement('div');\n",
              "          docLink.innerHTML = docLinkHtml;\n",
              "          element.appendChild(docLink);\n",
              "        }\n",
              "      </script>\n",
              "    </div>\n",
              "  </div>\n",
              "  "
            ]
          },
          "metadata": {},
          "execution_count": 97
        }
      ]
    },
    {
      "cell_type": "code",
      "source": [
        "df.drop(['Unnamed: 32','id'],axis=1,inplace=True)"
      ],
      "metadata": {
        "id": "BeBoLyXQe4Em"
      },
      "execution_count": 98,
      "outputs": []
    },
    {
      "cell_type": "code",
      "source": [
        "X = np.array(df.drop('diagnosis',axis=1))\n",
        "\n",
        "y = np.array(df.diagnosis)"
      ],
      "metadata": {
        "id": "0jDfaENoGuv4"
      },
      "execution_count": 112,
      "outputs": []
    },
    {
      "cell_type": "code",
      "source": [
        "le = LabelEncoder()\n",
        "y = le.fit_transform(y)"
      ],
      "metadata": {
        "id": "2aJx0sdCIj8F"
      },
      "execution_count": 113,
      "outputs": []
    },
    {
      "cell_type": "code",
      "source": [
        "X_mean = np.mean(X,axis=1,keepdims=True) #Find the mean of each feature\n",
        "X_max = np.max(X,axis=1,keepdims=True) #Find the maximum of each feature\n",
        "X_normalized = (X-X_mean)/(X_max) "
      ],
      "metadata": {
        "id": "qmPQC8gh6QFL"
      },
      "execution_count": 114,
      "outputs": []
    },
    {
      "cell_type": "code",
      "source": [
        "X_train, X_test, Y_train, Y_test = train_test_split(X_normalized, y, test_size=0.2, random_state=40)\n",
        "Y_train = Y_train.reshape(len(Y_train), 1)\n",
        "Y_test = Y_test.reshape(len(Y_test), 1)"
      ],
      "metadata": {
        "id": "dF6Fqt5WIzH2"
      },
      "execution_count": 183,
      "outputs": []
    },
    {
      "cell_type": "markdown",
      "source": [
        "## Log Loss Cost Function"
      ],
      "metadata": {
        "id": "2qKUAEh0VYcd"
      }
    },
    {
      "cell_type": "code",
      "source": [
        "def loss(y, y_pred):\n",
        "  log_loss = -y*np.log(y_pred) - (1-y)*np.log(1-y_pred)\n",
        "  return np.sum(log_loss) / y.shape[0]"
      ],
      "metadata": {
        "id": "F2t6Pi9KVdim"
      },
      "execution_count": 116,
      "outputs": []
    },
    {
      "cell_type": "markdown",
      "source": [
        "## Sigmoid Activation Function\n"
      ],
      "metadata": {
        "id": "RukKRIv_KKxP"
      }
    },
    {
      "cell_type": "code",
      "execution_count": 117,
      "metadata": {
        "id": "TMOR7xIcCdCh"
      },
      "outputs": [],
      "source": [
        "def sigmoid(z):\n",
        "  \"\"\"\n",
        "  \"\"\"\n",
        "  return 1/(1+ np.exp(-z))\n"
      ]
    },
    {
      "cell_type": "markdown",
      "source": [
        "# Rectified Linear Unit (ReLU) Activation Function "
      ],
      "metadata": {
        "id": "G4kaw3V8T4PR"
      }
    },
    {
      "cell_type": "code",
      "source": [
        "def ReLU(z):\n",
        "  \"\"\"\n",
        "  \"\"\"\n",
        "  return np.maximum(0, z)"
      ],
      "metadata": {
        "id": "9uZLdlLUUKaQ"
      },
      "execution_count": 118,
      "outputs": []
    },
    {
      "cell_type": "markdown",
      "source": [
        "## Layer definition"
      ],
      "metadata": {
        "id": "i-B1dEBW9d_9"
      }
    },
    {
      "cell_type": "code",
      "source": [
        "class Layer:\n",
        "\n",
        "  def __init__(self, nodes):\n",
        "\n",
        "    self.nodes = nodes\n",
        "    self.inputs = None\n",
        "    self.outputs = None\n",
        "    self.weights = None\n",
        "    self.bias = None\n",
        "    self.level = None\n",
        "\n",
        "  def forwardPass(self, input):\n",
        "    \"\"\"\n",
        "    \"\"\"\n",
        "    z = np.dot(input, self.weights) + self.bias\n",
        "\n",
        "    # print(f\"z for layer {self.level}: {z}\")\n",
        "\n",
        "    output = self.activation_function(z)\n",
        "\n",
        "    # print(f\"layer_{self.level}_out: {output}\")\n",
        "\n",
        "    self.inputs = input\n",
        "    self.outputs = output\n",
        "\n",
        "    return output\n",
        "\n",
        "  def activation_function(self):\n",
        "    \"\"\"\n",
        "    \"\"\"\n",
        "    raise NotImplementedError\n",
        "\n",
        "  def activate_derivative(self):\n",
        "    \"\"\"\n",
        "    \"\"\"\n",
        "    raise NotImplementedError\n",
        "\n",
        "  def update_parameters(self, \n",
        "                        l_r,\n",
        "                      delta_weight, \n",
        "                      delta_bias,\n",
        "                      n_records):\n",
        "      \"\"\"\n",
        "      Update weights and bias on gradient descent step\n",
        "      \n",
        "      delta_weight_matrix: change in weights in each hidden layer\n",
        "      delta_bias_matrix: change in bias in each hidden layer\n",
        "      n_records: number of records\n",
        "      \"\"\"\n",
        "      \n",
        "      self.weights += l_r * delta_weight / n_records \n",
        "      self.bias += l_r * delta_bias / n_records\n",
        "\n",
        "\n",
        "class sigmoidLayer(Layer):\n",
        "\n",
        "  def activation_function(self, z):\n",
        "    \"\"\"\n",
        "    \"\"\"\n",
        "    return sigmoid(z)\n",
        "\n",
        "  def activate_derivative(self):\n",
        "    \"\"\"\n",
        "    \"\"\"\n",
        "    return self.outputs * (1 - self.outputs) \n",
        "\n",
        "\n",
        "class ReLULayer(Layer):\n",
        "\n",
        "\n",
        "  def activation_function(self, z):\n",
        "    \"\"\"\n",
        "    \"\"\"\n",
        "    return ReLU(z)\n",
        "\n",
        "  def activate_derivative(self):\n",
        "    \"\"\"\n",
        "    \"\"\"\n",
        "    return np.heaviside(self.outputs, 0)"
      ],
      "metadata": {
        "id": "PFH52CCi9aim"
      },
      "execution_count": 124,
      "outputs": []
    },
    {
      "cell_type": "markdown",
      "source": [
        "## The Neural Network"
      ],
      "metadata": {
        "id": "wBAopYrFK42I"
      }
    },
    {
      "cell_type": "code",
      "source": [
        "class NeuralNetwork:\n",
        "\n",
        "    def __init__(self, \n",
        "                 input_nodes: int, \n",
        "                 layers: list, \n",
        "                 learning_rate: float\n",
        "                 ):\n",
        "      self.input_nodes = input_nodes \n",
        "      self.layers = layers\n",
        "      self.l_r = learning_rate\n",
        "      self.network = []\n",
        "      self.architecture = []\n",
        "\n",
        "    \n",
        "    def createNetwork(self):\n",
        "      \"\"\"\n",
        "      \"\"\"\n",
        "\n",
        "      input = self.input_nodes\n",
        "      np.random.seed(99)\n",
        "      for idx, layer in enumerate(self.layers):\n",
        "        \n",
        "        nodes = layer[0]\n",
        "        activation_function = layer[1]\n",
        "\n",
        "        if activation_function == \"ReLU\":\n",
        "          Layer = ReLULayer(nodes)\n",
        "        elif activation_function == \"tanh\":\n",
        "          pass\n",
        "        else:\n",
        "          Layer = sigmoidLayer(nodes)\n",
        "\n",
        "        Layer.level = idx\n",
        "\n",
        "        Layer.weights = np.random.uniform(-1, 1,\n",
        "                                      (input, nodes))\n",
        "        Layer.bias = np.zeros((1, nodes)) \n",
        "        self.network.append(Layer)\n",
        "\n",
        "        self.architecture.append({\n",
        "            \"input_dim\": input, \n",
        "            \"output_dim\": nodes, \n",
        "            \"activation\": activation_function\n",
        "        })\n",
        "        \n",
        "        input = nodes\n",
        "      \n",
        "      return self\n",
        "                    \n",
        "    \n",
        "    def feedForward(self, X) -> (np.array):\n",
        "      \"\"\"\n",
        "      Forward pass through the network\n",
        "\n",
        "      X: input\n",
        "      type: nD array\n",
        "      \n",
        "      returns: final output of the network and the output of each hidden nodes \n",
        "      in each hidden layer\n",
        "      rtype: tuple of nD arrays\n",
        "      \"\"\"\n",
        "      inputs = X\n",
        "      # print(f\"inputs: {inputs}\")\n",
        "      for layer in self.network:\n",
        "\n",
        "        outputs = layer.forwardPass(inputs)\n",
        "\n",
        "        inputs = outputs\n",
        "  \n",
        "      return outputs\n",
        "\n",
        "    def backpropagation(self, \n",
        "                        y,\n",
        "                        y_pred,  \n",
        "                        delta_weight_matrix, \n",
        "                        delta_bias_matrix\n",
        "                        ) -> (np.array):\n",
        "        \"\"\"\n",
        "        Implement backpropagation using log loss error function\n",
        "        \n",
        "        X: input features\n",
        "        y: target \n",
        "        y_pred: predicted values of y after forward pass\n",
        "        delta_weight_matrix: change in weights for all layers\n",
        "        delta_bias_matrix: change in bias in for all layers\n",
        "\n",
        "        returns: delta_weight_matrix, delta_bias_matrix\n",
        "        rtype: tuple of nD arrays\n",
        "        \"\"\"\n",
        "        # d_out is gradient of the loss on the output \n",
        "        d_out = - (y/y_pred + (1-y)*1/1-y_pred) \n",
        "        # print(f\"d_out: {d_out.shape}\")\n",
        "\n",
        "        # start from the output layer\n",
        "        for i, layer in reversed(list(enumerate(self.network))):\n",
        "          # print(i)\n",
        "\n",
        "          # chain d_out with gradient of output to activation\n",
        "          dout_prime = layer.activate_derivative()\n",
        "          #print(f\"dout_prime: {dout_prime.shape}\")\n",
        "          \n",
        "          da = d_out * dout_prime\n",
        "          #print(f\"da: {da.shape}\")\n",
        "          \n",
        "          # chain da with gradient of output to weight\n",
        "          dw = np.dot(layer.inputs.T, da)\n",
        "          #print(f\"dw: {dw.shape}\")\n",
        "          \n",
        "          delta_weight_matrix[i] = dw\n",
        "          # chain da with gradient of output to bias\n",
        "          db = da\n",
        "          #print(f\"db: {db.shape}\")\n",
        "          delta_bias_matrix[i] = np.sum(da, axis=0, keepdims=True )\n",
        "          \n",
        "          # d_out for the next layer is scaled by the weights in the curr layer\n",
        "          d_out = np.dot(d_out, layer.weights.T)        \n",
        "        \n",
        "        return delta_weight_matrix, delta_bias_matrix\n",
        "\n",
        "\n",
        "    def update_parameters(self, \n",
        "                          delta_weight_matrix, \n",
        "                          delta_bias_matrix,\n",
        "                          n_records\n",
        "                      ):\n",
        "      \"\"\"\n",
        "      Update weights and bias on gradient descent step\n",
        "      \n",
        "      delta_weight_matrix: change in weights for all layers\n",
        "      delta_bias_matrix: change in bias in for all layers\n",
        "      n_records: number of records\n",
        "      \"\"\"\n",
        "      print(\"updating parameters ....\")\n",
        "      for i, layer in  enumerate(self.network):\n",
        "        layer.weights += self.l_r * delta_weight_matrix[i] / n_records \n",
        "        # print(f\"new_layer_{i}_weights: {layer.weights}\")\n",
        "        layer.bias += self.l_r * delta_bias_matrix[i] / n_records\n",
        "\n",
        "    def train(self, X_train, y):\n",
        "        \"\"\"\n",
        "        Train the network on batch of features and targets. \n",
        "        \n",
        "        X_train: nD array, each row is one data record, each column \n",
        "        is a feature in a data record\n",
        "        y: 1D array of target values\n",
        "        \"\"\"\n",
        "        n_records = X_train.shape[0]\n",
        "\n",
        "        # We need to record this, because we can only make the updates after\n",
        "        # a full back prop\n",
        "        weight_matrix = [] # change in weights for all layers\n",
        "        bias_matrix = []\n",
        "        end_weight_matrix = []\n",
        "        end_bias_matrix = []\n",
        "        delta_weight_matrix = [] # change in weights for all layers\n",
        "        delta_bias_matrix = [] # change in bias for all layers\n",
        "        \n",
        "        # add dw and db for each layer into matrices \n",
        "        # delta_weight_matrix and delta_bias_matrix \n",
        "        for layer in self.network:\n",
        "          weight_matrix.append(layer.weights)\n",
        "          bias_matrix.append(layer.bias)\n",
        "          delta_weight_matrix.append(np.zeros(layer.weights.shape))\n",
        "          delta_bias_matrix.append(np.zeros(layer.bias.shape))\n",
        "\n",
        "            \n",
        "        y_pred = self.feedForward(X_train) \n",
        "        \n",
        "        delta_weight_matrix, delta_bias_matrix = self.backpropagation( \n",
        "                                                          y, \n",
        "                                                          y_pred,\n",
        "                                                          delta_weight_matrix, \n",
        "                                                          delta_bias_matrix\n",
        "                                                        )\n",
        "        \n",
        "        # print(f\"start_w_mat: {weight_matrix}\")\n",
        "        # print(f\"weight_change: {delta_weight_matrix}\")\n",
        "        \n",
        "        self.update_parameters(delta_weight_matrix, delta_bias_matrix, n_records)\n",
        "\n",
        "        for layer in self.network:\n",
        "          end_weight_matrix.append(layer.weights)\n",
        "          end_bias_matrix.append(layer.bias)\n",
        "\n",
        "        \n",
        "        # print(f\"new_weights: {end_weight_matrix}\")\n",
        "        # print(f\"start_b_mat: {bias_matrix}\")\n",
        "        # print(f\"bias_change: {delta_bias_matrix}\")\n",
        "        # print(f\"new_bias: {end_bias_matrix}\")\n",
        "\n",
        "        return y_pred\n",
        "    "
      ],
      "metadata": {
        "id": "xZ1pfm31IOgi"
      },
      "execution_count": 125,
      "outputs": []
    },
    {
      "cell_type": "markdown",
      "source": [
        "# Training the Neural Network"
      ],
      "metadata": {
        "id": "IGoRKpqEKju1"
      }
    },
    {
      "cell_type": "code",
      "source": [
        "epochs = 80\n",
        "# X_train = np.array([[1, 2, 3], \n",
        "#               [4, 5, 6]])\n",
        "# Y_train = np.array([[1], [0]])\n",
        "\n",
        "model = NeuralNetwork(X_train.shape[1], \n",
        "                      [(16, \"ReLU\"),\n",
        "                       (1, \"sigmoid\"),\n",
        "                      ],\n",
        "                       0.0009)\n",
        "model.createNetwork()\n",
        "\n",
        "print(model.architecture)\n",
        "\n",
        "losses = {'train':[], 'validation':[]}\n",
        "for epoch in range(epochs):\n",
        "    # Go through a random batch of 128 records from the training data set\n",
        "    # batch = np.random.choice(X_train.index, size=128)\n",
        "    # X, y = X_train.ix[batch].values, train_targets.ix[batch]['cnt']\n",
        "\n",
        "    Y_train = Y_train.reshape(455, 1)\n",
        "                             \n",
        "    y_pred = model.train(X_train, Y_train)\n",
        "\n",
        "    \n",
        "    \n",
        "    # Printing out the training progress\n",
        "    train_loss = loss(Y_train, y_pred)\n",
        "    print(train_loss)\n",
        "    # val_loss = MSE(network.run(val_features).T, val_targets['cnt'].values)\n",
        "    print(\"\\rProgress: {:2.1f}\".format(100 * epoch/float(epochs))\n",
        "                     + \"% ... Training loss: \" + str(train_loss)\n",
        "                    #  + \" ... Validation loss: \" + str(val_loss)[:5]\n",
        "                     )\n",
        "    # sys.stdout.flush()\n",
        "    \n",
        "    losses['train'].append(train_loss)\n",
        "    # losses['validation'].append(val_loss)"
      ],
      "metadata": {
        "id": "sT5pLZNJIvzv"
      },
      "execution_count": null,
      "outputs": []
    },
    {
      "cell_type": "code",
      "source": [
        "plt.plot(losses['train'], label='Training loss')\n",
        "# plt.plot(losses['validation'], label='Validation loss')\n",
        "plt.legend()\n",
        "_ = plt.ylim()"
      ],
      "metadata": {
        "colab": {
          "base_uri": "https://localhost:8080/",
          "height": 267
        },
        "id": "PfuHCZct1amP",
        "outputId": "92d8835b-ee00-46b2-f0a6-4b08208127de"
      },
      "execution_count": 177,
      "outputs": [
        {
          "output_type": "display_data",
          "data": {
            "text/plain": [
              "<Figure size 432x288 with 1 Axes>"
            ],
            "image/png": "[encoded data removed]"
          },
          "metadata": {
            "needs_background": "light"
          }
        }
      ]
    },
    {
      "cell_type": "code",
      "source": [
        "y_pred = (y_pred>0.5).astype(int)\n",
        "accuracy_score(y_pred, Y_train)"
      ],
      "metadata": {
        "colab": {
          "base_uri": "https://localhost:8080/"
        },
        "id": "RQ1HMr_l-91p",
        "outputId": "266619ca-583e-436d-9291-47e4c6b6feaf"
      },
      "execution_count": 184,
      "outputs": [
        {
          "output_type": "execute_result",
          "data": {
            "text/plain": [
              "0.6197802197802198"
            ]
          },
          "metadata": {},
          "execution_count": 184
        }
      ]
    },
    {
      "cell_type": "markdown",
      "source": [
        "## Make some predictions"
      ],
      "metadata": {
        "id": "FtpjZ-Sy-KG1"
      }
    },
    {
      "cell_type": "code",
      "source": [
        "predictions = model.feedForward(X_test)\n",
        "predictions = (predictions>0.5).astype(int)\n",
        "accuracy_score(predictions, Y_test)"
      ],
      "metadata": {
        "colab": {
          "base_uri": "https://localhost:8080/"
        },
        "id": "HUedq1YF-Ns-",
        "outputId": "8bdb8dc4-7690-4b4d-8859-37e2196ec1da"
      },
      "execution_count": 186,
      "outputs": [
        {
          "output_type": "execute_result",
          "data": {
            "text/plain": [
              "0.6578947368421053"
            ]
          },
          "metadata": {},
          "execution_count": 186
        }
      ]
    },
    {
      "cell_type": "markdown",
      "source": [
        "## Tests"
      ],
      "metadata": {
        "id": "D5DivGSMBj3w"
      }
    },
    {
      "cell_type": "code",
      "source": [
        "# Sanity check: Weights and bias dimension are properly set\n",
        "for layer in model.network:\n",
        "  print(layer.weights.shape, layer.bias.shape)\n"
      ],
      "metadata": {
        "colab": {
          "base_uri": "https://localhost:8080/"
        },
        "id": "OQnbT_yVZGdX",
        "outputId": "3fb37c45-85ca-4bcc-cdb2-1b5750b5cdcf"
      },
      "execution_count": 68,
      "outputs": [
        {
          "output_type": "stream",
          "name": "stdout",
          "text": [
            "(3, 5) (1, 5)\n",
            "(5, 1) (1, 1)\n"
          ]
        }
      ]
    },
    {
      "cell_type": "code",
      "source": [
        "# Sanity check: Network creation works properly\n",
        "\n",
        "model = NeuralNetwork(3, [(2, \"ReLU\"),\n",
        "                          (1, \"sigmoid\"),\n",
        "                          ],\n",
        "                       0.01)\n",
        "model.createNetwork()\n",
        "\n",
        "print(model.architecture)"
      ],
      "metadata": {
        "colab": {
          "base_uri": "https://localhost:8080/"
        },
        "id": "NrZWaPk_I2sS",
        "outputId": "aae3be69-df34-4aee-ae9b-1e7118a519ae"
      },
      "execution_count": 33,
      "outputs": [
        {
          "output_type": "stream",
          "name": "stdout",
          "text": [
            "[{'input_dim': 3, 'output_dim': 2, 'activation': 'ReLU'}, {'input_dim': 2, 'output_dim': 1, 'activation': 'sigmoid'}]\n"
          ]
        }
      ]
    },
    {
      "cell_type": "code",
      "source": [
        "# Sanity check for feed forward\n",
        "x = np.array([[1, 2, 3], \n",
        "              [4, 5, 6]])\n",
        "out = model.feedForward(x)\n",
        "print('SHAPE:', out.shape)\n",
        "print('Probabilties :', out)"
      ],
      "metadata": {
        "colab": {
          "base_uri": "https://localhost:8080/"
        },
        "id": "rovjGr-jNk6X",
        "outputId": "d941bfd7-3e5f-4fca-93c2-74c3e15d2498"
      },
      "execution_count": 45,
      "outputs": [
        {
          "output_type": "stream",
          "name": "stdout",
          "text": [
            "SHAPE: (2, 1)\n",
            "Probabilties : [[0.57264512]\n",
            " [0.69036214]]\n"
          ]
        }
      ]
    },
    {
      "cell_type": "code",
      "source": [
        "# Sanity check for back propagation\n",
        "delta_weight_matrix = [] # change in weights for all layers\n",
        "delta_bias_matrix = [] # change in bias for all layers\n",
        "for layer in model.network:\n",
        "    delta_weight_matrix.append(np.zeros(layer.weights.shape))\n",
        "    delta_bias_matrix.append(np.zeros(layer.bias.shape))\n",
        "\n",
        "y = np.array([[1], [0]])\n",
        "delta_weight_matrix, delta_bias_matrix = model.backpropagation(y, out, delta_weight_matrix, delta_bias_matrix)\n",
        "model.update_parameters(delta_weight_matrix, delta_bias_matrix, x.shape[0])\n",
        "for layer in model.network:\n",
        "  print(layer.weights.shape, layer.bias.shape)"
      ],
      "metadata": {
        "colab": {
          "base_uri": "https://localhost:8080/"
        },
        "id": "6OmFs709x7ee",
        "outputId": "36e8d351-62af-453b-abc1-86dd67eae77c"
      },
      "execution_count": 46,
      "outputs": [
        {
          "output_type": "stream",
          "name": "stdout",
          "text": [
            "(3, 2) (1, 2)\n",
            "(2, 1) (1, 1)\n"
          ]
        }
      ]
    },
    {
      "cell_type": "code",
      "source": [
        "print(y_pred[:3])"
      ],
      "metadata": {
        "colab": {
          "base_uri": "https://localhost:8080/"
        },
        "id": "1uxW7rRodRam",
        "outputId": "52619597-93cf-457c-9755-37e5e2104ae6"
      },
      "execution_count": 75,
      "outputs": [
        {
          "output_type": "stream",
          "name": "stdout",
          "text": [
            "[[nan]\n",
            " [nan]\n",
            " [nan]]\n"
          ]
        }
      ]
    }
  ]
}