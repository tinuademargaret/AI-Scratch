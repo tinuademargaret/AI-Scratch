{
 "cells": [
  {
   "cell_type": "code",
   "execution_count": 19,
   "metadata": {
    "collapsed": true
   },
   "outputs": [],
   "source": [
    "import os\n",
    "import io\n",
    "import sys\n",
    "import random\n",
    "import numpy as np\n",
    "import pandas as pd\n",
    "import matplotlib.pyplot as plt\n",
    "from sklearn.model_selection import train_test_split\n",
    "from sklearn.preprocessing import LabelEncoder, StandardScaler\n",
    "from sklearn.metrics import accuracy_score\n",
    "\n",
    "from neural_network.network import NeuralNetwork\n"
   ]
  },
  {
   "cell_type": "code",
   "execution_count": 20,
   "outputs": [],
   "source": [
    "df = pd.read_csv('./data/data.csv')"
   ],
   "metadata": {
    "collapsed": false
   }
  },
  {
   "cell_type": "code",
   "execution_count": 21,
   "outputs": [
    {
     "data": {
      "text/plain": "         id diagnosis  radius_mean  texture_mean  perimeter_mean  area_mean  \\\n0    842302         M        17.99         10.38          122.80     1001.0   \n1    842517         M        20.57         17.77          132.90     1326.0   \n2  84300903         M        19.69         21.25          130.00     1203.0   \n3  84348301         M        11.42         20.38           77.58      386.1   \n4  84358402         M        20.29         14.34          135.10     1297.0   \n\n   smoothness_mean  compactness_mean  concavity_mean  concave points_mean  \\\n0          0.11840           0.27760          0.3001              0.14710   \n1          0.08474           0.07864          0.0869              0.07017   \n2          0.10960           0.15990          0.1974              0.12790   \n3          0.14250           0.28390          0.2414              0.10520   \n4          0.10030           0.13280          0.1980              0.10430   \n\n   ...  texture_worst  perimeter_worst  area_worst  smoothness_worst  \\\n0  ...          17.33           184.60      2019.0            0.1622   \n1  ...          23.41           158.80      1956.0            0.1238   \n2  ...          25.53           152.50      1709.0            0.1444   \n3  ...          26.50            98.87       567.7            0.2098   \n4  ...          16.67           152.20      1575.0            0.1374   \n\n   compactness_worst  concavity_worst  concave points_worst  symmetry_worst  \\\n0             0.6656           0.7119                0.2654          0.4601   \n1             0.1866           0.2416                0.1860          0.2750   \n2             0.4245           0.4504                0.2430          0.3613   \n3             0.8663           0.6869                0.2575          0.6638   \n4             0.2050           0.4000                0.1625          0.2364   \n\n   fractal_dimension_worst  Unnamed: 32  \n0                  0.11890          NaN  \n1                  0.08902          NaN  \n2                  0.08758          NaN  \n3                  0.17300          NaN  \n4                  0.07678          NaN  \n\n[5 rows x 33 columns]",
      "text/html": "<div>\n<style scoped>\n    .dataframe tbody tr th:only-of-type {\n        vertical-align: middle;\n    }\n\n    .dataframe tbody tr th {\n        vertical-align: top;\n    }\n\n    .dataframe thead th {\n        text-align: right;\n    }\n</style>\n<table border=\"1\" class=\"dataframe\">\n  <thead>\n    <tr style=\"text-align: right;\">\n      <th></th>\n      <th>id</th>\n      <th>diagnosis</th>\n      <th>radius_mean</th>\n      <th>texture_mean</th>\n      <th>perimeter_mean</th>\n      <th>area_mean</th>\n      <th>smoothness_mean</th>\n      <th>compactness_mean</th>\n      <th>concavity_mean</th>\n      <th>concave points_mean</th>\n      <th>...</th>\n      <th>texture_worst</th>\n      <th>perimeter_worst</th>\n      <th>area_worst</th>\n      <th>smoothness_worst</th>\n      <th>compactness_worst</th>\n      <th>concavity_worst</th>\n      <th>concave points_worst</th>\n      <th>symmetry_worst</th>\n      <th>fractal_dimension_worst</th>\n      <th>Unnamed: 32</th>\n    </tr>\n  </thead>\n  <tbody>\n    <tr>\n      <th>0</th>\n      <td>842302</td>\n      <td>M</td>\n      <td>17.99</td>\n      <td>10.38</td>\n      <td>122.80</td>\n      <td>1001.0</td>\n      <td>0.11840</td>\n      <td>0.27760</td>\n      <td>0.3001</td>\n      <td>0.14710</td>\n      <td>...</td>\n      <td>17.33</td>\n      <td>184.60</td>\n      <td>2019.0</td>\n      <td>0.1622</td>\n      <td>0.6656</td>\n      <td>0.7119</td>\n      <td>0.2654</td>\n      <td>0.4601</td>\n      <td>0.11890</td>\n      <td>NaN</td>\n    </tr>\n    <tr>\n      <th>1</th>\n      <td>842517</td>\n      <td>M</td>\n      <td>20.57</td>\n      <td>17.77</td>\n      <td>132.90</td>\n      <td>1326.0</td>\n      <td>0.08474</td>\n      <td>0.07864</td>\n      <td>0.0869</td>\n      <td>0.07017</td>\n      <td>...</td>\n      <td>23.41</td>\n      <td>158.80</td>\n      <td>1956.0</td>\n      <td>0.1238</td>\n      <td>0.1866</td>\n      <td>0.2416</td>\n      <td>0.1860</td>\n      <td>0.2750</td>\n      <td>0.08902</td>\n      <td>NaN</td>\n    </tr>\n    <tr>\n      <th>2</th>\n      <td>84300903</td>\n      <td>M</td>\n      <td>19.69</td>\n      <td>21.25</td>\n      <td>130.00</td>\n      <td>1203.0</td>\n      <td>0.10960</td>\n      <td>0.15990</td>\n      <td>0.1974</td>\n      <td>0.12790</td>\n      <td>...</td>\n      <td>25.53</td>\n      <td>152.50</td>\n      <td>1709.0</td>\n      <td>0.1444</td>\n      <td>0.4245</td>\n      <td>0.4504</td>\n      <td>0.2430</td>\n      <td>0.3613</td>\n      <td>0.08758</td>\n      <td>NaN</td>\n    </tr>\n    <tr>\n      <th>3</th>\n      <td>84348301</td>\n      <td>M</td>\n      <td>11.42</td>\n      <td>20.38</td>\n      <td>77.58</td>\n      <td>386.1</td>\n      <td>0.14250</td>\n      <td>0.28390</td>\n      <td>0.2414</td>\n      <td>0.10520</td>\n      <td>...</td>\n      <td>26.50</td>\n      <td>98.87</td>\n      <td>567.7</td>\n      <td>0.2098</td>\n      <td>0.8663</td>\n      <td>0.6869</td>\n      <td>0.2575</td>\n      <td>0.6638</td>\n      <td>0.17300</td>\n      <td>NaN</td>\n    </tr>\n    <tr>\n      <th>4</th>\n      <td>84358402</td>\n      <td>M</td>\n      <td>20.29</td>\n      <td>14.34</td>\n      <td>135.10</td>\n      <td>1297.0</td>\n      <td>0.10030</td>\n      <td>0.13280</td>\n      <td>0.1980</td>\n      <td>0.10430</td>\n      <td>...</td>\n      <td>16.67</td>\n      <td>152.20</td>\n      <td>1575.0</td>\n      <td>0.1374</td>\n      <td>0.2050</td>\n      <td>0.4000</td>\n      <td>0.1625</td>\n      <td>0.2364</td>\n      <td>0.07678</td>\n      <td>NaN</td>\n    </tr>\n  </tbody>\n</table>\n<p>5 rows × 33 columns</p>\n</div>"
     },
     "execution_count": 21,
     "metadata": {},
     "output_type": "execute_result"
    }
   ],
   "source": [
    "df.head()"
   ],
   "metadata": {
    "collapsed": false
   }
  },
  {
   "cell_type": "code",
   "execution_count": 4,
   "outputs": [],
   "source": [
    "df.drop(['Unnamed: 32','id'],axis=1,inplace=True)"
   ],
   "metadata": {
    "collapsed": false
   }
  },
  {
   "cell_type": "code",
   "execution_count": 5,
   "outputs": [],
   "source": [
    "X = np.array(df.drop('diagnosis',axis=1))\n",
    "\n",
    "y = np.array(df.diagnosis)"
   ],
   "metadata": {
    "collapsed": false
   }
  },
  {
   "cell_type": "code",
   "execution_count": 6,
   "outputs": [],
   "source": [
    "le = LabelEncoder()\n",
    "y = le.fit_transform(y)"
   ],
   "metadata": {
    "collapsed": false
   }
  },
  {
   "cell_type": "code",
   "execution_count": 7,
   "outputs": [],
   "source": [
    "X_train, X_test, Y_train, Y_test = train_test_split(X, y, test_size=0.2, random_state=40)"
   ],
   "metadata": {
    "collapsed": false
   }
  },
  {
   "cell_type": "code",
   "execution_count": 8,
   "outputs": [],
   "source": [
    "sc = StandardScaler()\n",
    "X_train = sc.fit_transform(X_train)\n",
    "X_test = sc.transform(X_test)"
   ],
   "metadata": {
    "collapsed": false
   }
  },
  {
   "cell_type": "code",
   "execution_count": 9,
   "outputs": [],
   "source": [
    "Y_train = Y_train.reshape(len(Y_train), 1)\n",
    "Y_test = Y_test.reshape(len(Y_test), 1)"
   ],
   "metadata": {
    "collapsed": false
   }
  },
  {
   "cell_type": "code",
   "execution_count": 14,
   "outputs": [
    {
     "name": "stdout",
     "output_type": "stream",
     "text": [
      "[{'input_dim': 30, 'output_dim': 6, 'activation': 'ReLU'}, {'input_dim': 6, 'output_dim': 2, 'activation': 'ReLU'}, {'input_dim': 2, 'output_dim': 1, 'activation': 'sigmoid'}]\n",
      "Progress: 0.0% ... Training loss: 0.7271895381232945\n",
      "Progress: 1.2% ... Training loss: 0.7265985837465349\n",
      "Progress: 2.5% ... Training loss: 0.7260344627600613\n",
      "Progress: 3.8% ... Training loss: 0.7254940297583798\n",
      "Progress: 5.0% ... Training loss: 0.7249760267272295\n",
      "Progress: 6.2% ... Training loss: 0.7244794841231377\n",
      "Progress: 7.5% ... Training loss: 0.7239908018232998\n",
      "Progress: 8.8% ... Training loss: 0.7235214883148068\n",
      "Progress: 10.0% ... Training loss: 0.723070967597339\n",
      "Progress: 11.2% ... Training loss: 0.7226380726062314\n",
      "Progress: 12.5% ... Training loss: 0.7222220264386586\n",
      "Progress: 13.8% ... Training loss: 0.7218282426289709\n",
      "Progress: 15.0% ... Training loss: 0.7214533025402396\n",
      "Progress: 16.2% ... Training loss: 0.7210902370665528\n",
      "Progress: 17.5% ... Training loss: 0.7207325817444169\n",
      "Progress: 18.8% ... Training loss: 0.7203883402835006\n",
      "Progress: 20.0% ... Training loss: 0.7200592337760783\n",
      "Progress: 21.2% ... Training loss: 0.7197437713318358\n",
      "Progress: 22.5% ... Training loss: 0.7194402949929799\n",
      "Progress: 23.8% ... Training loss: 0.7191469311794872\n",
      "Progress: 25.0% ... Training loss: 0.7188558664467991\n",
      "Progress: 26.2% ... Training loss: 0.7185664790804798\n",
      "Progress: 27.5% ... Training loss: 0.7182851552728104\n",
      "Progress: 28.8% ... Training loss: 0.7180082875173271\n",
      "Progress: 30.0% ... Training loss: 0.7177330482899986\n",
      "Progress: 31.2% ... Training loss: 0.717466822343398\n",
      "Progress: 32.5% ... Training loss: 0.7172045626297507\n",
      "Progress: 33.8% ... Training loss: 0.7169534185262199\n",
      "Progress: 35.0% ... Training loss: 0.7167131516301264\n",
      "Progress: 36.2% ... Training loss: 0.7164811489399406\n",
      "Progress: 37.5% ... Training loss: 0.7162571158818014\n",
      "Progress: 38.8% ... Training loss: 0.7160452476528525\n",
      "Progress: 40.0% ... Training loss: 0.715844607836876\n",
      "Progress: 41.2% ... Training loss: 0.7156544028357927\n",
      "Progress: 42.5% ... Training loss: 0.7154744729912594\n",
      "Progress: 43.8% ... Training loss: 0.7153014440894586\n",
      "Progress: 45.0% ... Training loss: 0.715135166065726\n",
      "Progress: 46.2% ... Training loss: 0.71497693138878\n",
      "Progress: 47.5% ... Training loss: 0.7148293860732468\n",
      "Progress: 48.8% ... Training loss: 0.7146881040149531\n",
      "Progress: 50.0% ... Training loss: 0.7145529631892662\n",
      "Progress: 51.2% ... Training loss: 0.7144238471281259\n",
      "Progress: 52.5% ... Training loss: 0.7143006446242708\n",
      "Progress: 53.8% ... Training loss: 0.7141831754631637\n",
      "Progress: 55.0% ... Training loss: 0.714071313641477\n",
      "Progress: 56.2% ... Training loss: 0.7139652860530142\n",
      "Progress: 57.5% ... Training loss: 0.7138443127504638\n",
      "Progress: 58.8% ... Training loss: 0.7137195093080089\n",
      "Progress: 60.0% ... Training loss: 0.7136033603670217\n",
      "Progress: 61.2% ... Training loss: 0.7134916165032983\n",
      "Progress: 62.5% ... Training loss: 0.7133760300906016\n",
      "Progress: 63.8% ... Training loss: 0.7132668226154072\n",
      "Progress: 65.0% ... Training loss: 0.7131624899608986\n",
      "Progress: 66.2% ... Training loss: 0.713052422545026\n",
      "Progress: 67.5% ... Training loss: 0.7129467458837377\n",
      "Progress: 68.8% ... Training loss: 0.7128454048329111\n",
      "Progress: 70.0% ... Training loss: 0.7127485146436614\n",
      "Progress: 71.2% ... Training loss: 0.712655826273399\n",
      "Progress: 72.5% ... Training loss: 0.7125680172328352\n",
      "Progress: 73.8% ... Training loss: 0.7124866355578261\n",
      "Progress: 75.0% ... Training loss: 0.7124092674601538\n",
      "Progress: 76.2% ... Training loss: 0.7123358629344829\n",
      "Progress: 77.5% ... Training loss: 0.7122668350662783\n",
      "Progress: 78.8% ... Training loss: 0.7122044951136387\n",
      "Progress: 80.0% ... Training loss: 0.712148245201809\n",
      "Progress: 81.2% ... Training loss: 0.712095797716592\n",
      "Progress: 82.5% ... Training loss: 0.7120470199300891\n",
      "Progress: 83.8% ... Training loss: 0.7120018735869728\n",
      "Progress: 85.0% ... Training loss: 0.7119606104532707\n",
      "Progress: 86.2% ... Training loss: 0.7119235872304147\n",
      "Progress: 87.5% ... Training loss: 0.7118900988945768\n",
      "Progress: 88.8% ... Training loss: 0.7118602103602206\n",
      "Progress: 90.0% ... Training loss: 0.7118337926876558\n",
      "Progress: 91.2% ... Training loss: 0.7118108155979808\n",
      "Progress: 92.5% ... Training loss: 0.7117911894613703\n",
      "Progress: 93.8% ... Training loss: 0.7117749470346115\n",
      "Progress: 95.0% ... Training loss: 0.7117620614137955\n",
      "Progress: 96.2% ... Training loss: 0.7117525421545369\n",
      "Progress: 97.5% ... Training loss: 0.7117467038457541\n",
      "Progress: 98.8% ... Training loss: 0.7117440469354923\n"
     ]
    }
   ],
   "source": [
    "epochs = 80\n",
    "\n",
    "model = NeuralNetwork(X_train.shape[1],\n",
    "                      [\n",
    "                       (6, \"ReLU\"),\n",
    "                       (2, \"ReLU\"),\n",
    "                       (1, \"sigmoid\"),\n",
    "                      ],\n",
    "                       0.0005)\n",
    "model.create_network()\n",
    "\n",
    "print(model.architecture)\n",
    "\n",
    "losses = {'train':[], 'validation':[]}\n",
    "for epoch in range(epochs):\n",
    "    # Go through a random batch of 128 records from the training data set\n",
    "    # batch = np.random.choice(X_train.index, size=128)\n",
    "    # X, y = X_train.ix[batch].values, train_targets.ix[batch]['cnt']\n",
    "\n",
    "    network_output, train_loss = model.train(X_train, Y_train)\n",
    "\n",
    "    # Printing out the training progress\n",
    "    # train_loss = loss(Y_train, y_pred)\n",
    "\n",
    "    # val_loss = MSE(network.run(val_features).T, val_targets['cnt'].values)\n",
    "    print(\"\\rProgress: {:2.1f}\".format(100 * epoch/float(epochs))\n",
    "                     + \"% ... Training loss: \" + str(train_loss)\n",
    "                    #  + \" ... Validation loss: \" + str(val_loss)[:5]\n",
    "                     )\n",
    "    # sys.stdout.flush()\n",
    "\n",
    "    losses['train'].append(train_loss)\n",
    "    # losses['validation'].append(val_loss)"
   ],
   "metadata": {
    "collapsed": false
   }
  },
  {
   "cell_type": "code",
   "execution_count": 15,
   "outputs": [
    {
     "data": {
      "text/plain": "<Figure size 640x480 with 1 Axes>",
      "image/png": "[encoded data removed]"
     },
     "metadata": {},
     "output_type": "display_data"
    }
   ],
   "source": [
    "plt.plot(losses['train'], label='Training loss')\n",
    "# plt.plot(losses['validation'], label='Validation loss')\n",
    "plt.legend()\n",
    "_ = plt.ylim()"
   ],
   "metadata": {
    "collapsed": false
   }
  },
  {
   "cell_type": "code",
   "execution_count": 16,
   "outputs": [
    {
     "data": {
      "text/plain": "0.6483516483516484"
     },
     "execution_count": 16,
     "metadata": {},
     "output_type": "execute_result"
    }
   ],
   "source": [
    "y_pred = (network_output>0.5).astype(int)\n",
    "accuracy_score(y_pred, Y_train)"
   ],
   "metadata": {
    "collapsed": false
   }
  },
  {
   "cell_type": "code",
   "execution_count": 18,
   "outputs": [
    {
     "data": {
      "text/plain": "0.6578947368421053"
     },
     "execution_count": 18,
     "metadata": {},
     "output_type": "execute_result"
    }
   ],
   "source": [
    "predictions = model.feed_forward(X_test)\n",
    "predictions = (predictions>0.5).astype(int)\n",
    "accuracy_score(predictions, Y_test)"
   ],
   "metadata": {
    "collapsed": false
   }
  },
  {
   "cell_type": "code",
   "execution_count": null,
   "outputs": [],
   "source": [],
   "metadata": {
    "collapsed": false
   }
  }
 ],
 "metadata": {
  "kernelspec": {
   "display_name": "Python 3",
   "language": "python",
   "name": "python3"
  },
  "language_info": {
   "codemirror_mode": {
    "name": "ipython",
    "version": 2
   },
   "file_extension": ".py",
   "mimetype": "text/x-python",
   "name": "python",
   "nbconvert_exporter": "python",
   "pygments_lexer": "ipython2",
   "version": "2.7.6"
  }
 },
 "nbformat": 4,
 "nbformat_minor": 0
}
